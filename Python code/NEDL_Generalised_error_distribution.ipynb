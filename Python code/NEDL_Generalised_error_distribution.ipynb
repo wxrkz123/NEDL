{
 "cells": [
  {
   "cell_type": "code",
   "execution_count": 9,
   "metadata": {},
   "outputs": [],
   "source": [
    "#import packages\n",
    "import numpy as np\n",
    "import pandas as pd\n",
    "import yfinance as yf\n",
    "import scipy.stats as sps\n",
    "import scipy.special as spsp\n",
    "import scipy.optimize as spop\n",
    "import matplotlib.pyplot as plt"
   ]
  },
  {
   "cell_type": "code",
   "execution_count": 19,
   "metadata": {},
   "outputs": [
    {
     "name": "stdout",
     "output_type": "stream",
     "text": [
      "[*********************100%***********************]  1 of 1 completed\n",
      "the best fitting distribution has shape parameter 0.8517\n"
     ]
    },
    {
     "data": {
      "image/png": "[encoded data removed]",
      "text/plain": [
       "<Figure size 432x288 with 1 Axes>"
      ]
     },
     "metadata": {
      "needs_background": "light"
     },
     "output_type": "display_data"
    },
    {
     "name": "stdout",
     "output_type": "stream",
     "text": [
      "p-value of the Kolmogorov-Smirnov test: 38.1358%\n",
      "the distribution fits the data\n"
     ]
    }
   ],
   "source": [
    "#generalised error (generalised normal) distribution\n",
    "#probability density function: f(x) = shape/(2*scale*gamma(1/shape))*e^(-(abs((x-loc)/scale))^shape)\n",
    "#cumulative distribution function: F(x) = 1/2 + sign(x - loc)/2*gammainc(1/shape, (abs(x-loc)/scale)^shape)\n",
    "#if shape = 1: Laplace distribution, if shape = 2: normal distribution\n",
    "#specify the sample\n",
    "ticker = '^GSPC'\n",
    "start = '2017-11-30'\n",
    "end = '2022-11-30'\n",
    "#retrieve data\n",
    "prices = np.array(yf.download(ticker, start, end)['Close'])\n",
    "#calculate and sort returns\n",
    "returns = np.log(prices[1:]/prices[:-1])\n",
    "returns = np.sort(returns)\n",
    "#construct empirical distribution function\n",
    "edf = np.arange(1, len(returns)+1)/len(returns)\n",
    "#calculate mean and standard deviation\n",
    "mean = np.average(returns)\n",
    "std = np.std(returns)\n",
    "#optimise generalised error distribution parameters using maximum likelihood estimation\n",
    "def ged_optimisation(k):\n",
    "    k[1] = abs(k[1])\n",
    "    k[2] = abs(k[2])\n",
    "    pdf = k[2]/(2*k[1]*spsp.gamma(1/k[2]))*np.exp(-(abs(returns-k[0])/k[1])**k[2])\n",
    "    return -np.sum(np.log(pdf))\n",
    "res = spop.minimize(ged_optimisation, [mean, std, 2], method='Nelder-Mead')\n",
    "#retrieve optimal distribution parameters\n",
    "ged_loc = res.x[0]\n",
    "ged_scale = abs(res.x[1])\n",
    "ged_shape = abs(res.x[2])\n",
    "print('the best fitting distribution has shape parameter '+str(round(ged_shape, 4)))\n",
    "#calculate the cumulative distribution function\n",
    "cdf = 1/2 + np.sign(returns - ged_loc)/2*spsp.gammainc(1/ged_shape, (abs(returns-ged_loc)/ged_scale)**ged_shape)\n",
    "#visualise the distribution functions\n",
    "plt.plot(returns, edf)\n",
    "plt.plot(returns, cdf)\n",
    "plt.show()\n",
    "#evaluate the goodness-of-fit using Kolmogorov-Smirnov test\n",
    "supremum = max(abs(edf - cdf))\n",
    "p_value = np.exp(-supremum**2*len(returns))\n",
    "print('p-value of the Kolmogorov-Smirnov test: '+str(round(p_value*100,4))+'%')\n",
    "if p_value < 0.1:\n",
    "    print('the distribution does not fit the data')\n",
    "else:\n",
    "    print('the distribution fits the data')"
   ]
  },
  {
   "cell_type": "code",
   "execution_count": null,
   "metadata": {},
   "outputs": [],
   "source": []
  },
  {
   "cell_type": "code",
   "execution_count": null,
   "metadata": {},
   "outputs": [],
   "source": []
  },
  {
   "cell_type": "code",
   "execution_count": null,
   "metadata": {},
   "outputs": [],
   "source": []
  },
  {
   "cell_type": "code",
   "execution_count": null,
   "metadata": {},
   "outputs": [],
   "source": []
  },
  {
   "cell_type": "code",
   "execution_count": null,
   "metadata": {},
   "outputs": [],
   "source": []
  },
  {
   "cell_type": "code",
   "execution_count": null,
   "metadata": {},
   "outputs": [],
   "source": []
  },
  {
   "cell_type": "code",
   "execution_count": null,
   "metadata": {},
   "outputs": [],
   "source": []
  },
  {
   "cell_type": "code",
   "execution_count": null,
   "metadata": {},
   "outputs": [],
   "source": []
  },
  {
   "cell_type": "code",
   "execution_count": null,
   "metadata": {},
   "outputs": [],
   "source": []
  },
  {
   "cell_type": "code",
   "execution_count": null,
   "metadata": {},
   "outputs": [],
   "source": []
  },
  {
   "cell_type": "code",
   "execution_count": null,
   "metadata": {},
   "outputs": [],
   "source": []
  }
 ],
 "metadata": {
  "kernelspec": {
   "display_name": "Python 3",
   "language": "python",
   "name": "python3"
  },
  "language_info": {
   "codemirror_mode": {
    "name": "ipython",
    "version": 3
   },
   "file_extension": ".py",
   "mimetype": "text/x-python",
   "name": "python",
   "nbconvert_exporter": "python",
   "pygments_lexer": "ipython3",
   "version": "3.7.4"
  }
 },
 "nbformat": 4,
 "nbformat_minor": 2
}
