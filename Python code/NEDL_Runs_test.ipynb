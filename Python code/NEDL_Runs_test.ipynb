{
 "cells": [
  {
   "cell_type": "code",
   "execution_count": 49,
   "metadata": {},
   "outputs": [],
   "source": [
    "import numpy as np\n",
    "import pandas as pd\n",
    "import yfinance as yf\n",
    "import scipy.stats as sps"
   ]
  },
  {
   "cell_type": "code",
   "execution_count": 50,
   "metadata": {},
   "outputs": [
    {
     "name": "stdout",
     "output_type": "stream",
     "text": [
      "[*********************100%***********************]  1 of 1 completed\n"
     ]
    }
   ],
   "source": [
    "ticker = '^GSPC'\n",
    "start = '2010-12-31'\n",
    "end = '2020-12-31'\n",
    "prices = np.array(yf.download(ticker, start, end)['Adj Close'])"
   ]
  },
  {
   "cell_type": "code",
   "execution_count": 51,
   "metadata": {},
   "outputs": [],
   "source": [
    "returns = prices[1:]/prices[:-1] - 1\n",
    "returns = returns[returns != 0]\n",
    "n = len(returns)\n",
    "signs = np.sign(returns)"
   ]
  },
  {
   "cell_type": "code",
   "execution_count": 52,
   "metadata": {},
   "outputs": [
    {
     "name": "stdout",
     "output_type": "stream",
     "text": [
      "market is mean-reverting\n",
      "1303 1246 24.85 2.2708 0.0232\n"
     ]
    }
   ],
   "source": [
    "runs = signs[1:] - signs[:-1]\n",
    "observed_runs = np.count_nonzero(runs == 2) + np.count_nonzero(runs == -2) + 1\n",
    "positive_returns = np.count_nonzero(signs == 1)\n",
    "negative_returns = np.count_nonzero(signs == -1)\n",
    "expected_runs = 2*positive_returns*negative_returns/n + 1\n",
    "stdev_runs = (expected_runs*(expected_runs - 1)/(n - 1))**(1/2)\n",
    "z_stat = (observed_runs - expected_runs)/stdev_runs\n",
    "p_value = 2*(1 - sps.norm.cdf(abs(z_stat)))\n",
    "if p_value > 0.1:\n",
    "    print('market is efficient')\n",
    "elif z_stat > 0:\n",
    "    print('market is mean-reverting')\n",
    "else:\n",
    "    print('market is trending')\n",
    "print(observed_runs, int(expected_runs), round(stdev_runs, 2), round(z_stat, 4), round(p_value, 4))"
   ]
  },
  {
   "cell_type": "code",
   "execution_count": null,
   "metadata": {},
   "outputs": [],
   "source": []
  },
  {
   "cell_type": "code",
   "execution_count": null,
   "metadata": {},
   "outputs": [],
   "source": []
  },
  {
   "cell_type": "code",
   "execution_count": null,
   "metadata": {},
   "outputs": [],
   "source": []
  },
  {
   "cell_type": "code",
   "execution_count": null,
   "metadata": {},
   "outputs": [],
   "source": []
  },
  {
   "cell_type": "code",
   "execution_count": null,
   "metadata": {},
   "outputs": [],
   "source": []
  },
  {
   "cell_type": "code",
   "execution_count": null,
   "metadata": {},
   "outputs": [],
   "source": []
  },
  {
   "cell_type": "code",
   "execution_count": null,
   "metadata": {},
   "outputs": [],
   "source": []
  },
  {
   "cell_type": "code",
   "execution_count": null,
   "metadata": {},
   "outputs": [],
   "source": []
  },
  {
   "cell_type": "code",
   "execution_count": null,
   "metadata": {},
   "outputs": [],
   "source": []
  },
  {
   "cell_type": "code",
   "execution_count": null,
   "metadata": {},
   "outputs": [],
   "source": []
  },
  {
   "cell_type": "code",
   "execution_count": null,
   "metadata": {},
   "outputs": [],
   "source": []
  },
  {
   "cell_type": "code",
   "execution_count": null,
   "metadata": {},
   "outputs": [],
   "source": []
  }
 ],
 "metadata": {
  "kernelspec": {
   "display_name": "Python 3",
   "language": "python",
   "name": "python3"
  },
  "language_info": {
   "codemirror_mode": {
    "name": "ipython",
    "version": 3
   },
   "file_extension": ".py",
   "mimetype": "text/x-python",
   "name": "python",
   "nbconvert_exporter": "python",
   "pygments_lexer": "ipython3",
   "version": "3.7.4"
  }
 },
 "nbformat": 4,
 "nbformat_minor": 2
}
