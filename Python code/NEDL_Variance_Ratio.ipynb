{
 "cells": [
  {
   "cell_type": "code",
   "execution_count": 47,
   "metadata": {},
   "outputs": [],
   "source": [
    "import numpy as np\n",
    "import pandas as pd\n",
    "import yfinance as yf\n",
    "import matplotlib.pyplot as plt\n",
    "import scipy.stats as sps"
   ]
  },
  {
   "cell_type": "code",
   "execution_count": 48,
   "metadata": {},
   "outputs": [
    {
     "name": "stdout",
     "output_type": "stream",
     "text": [
      "[*********************100%***********************]  1 of 1 completed\n"
     ]
    }
   ],
   "source": [
    "ticker = '^GSPC'\n",
    "start = '2011-12-31'\n",
    "end = '2021-12-31'\n",
    "max_t = 64\n",
    "prices = yf.download(ticker, start, end)['Adj Close']"
   ]
  },
  {
   "cell_type": "code",
   "execution_count": 49,
   "metadata": {},
   "outputs": [],
   "source": [
    "returns = prices.pct_change()[1:]\n",
    "n = len(returns)\n",
    "variance_0 = returns.var()\n",
    "variance_ratio_output = pd.DataFrame()\n",
    "for t in np.arange(2, max_t+1):\n",
    "    variance = returns.rolling(t).sum().var()\n",
    "    variance_ratio = variance/(variance_0*t) - 1\n",
    "    standard_error = (2*(2*t - 1)*(t-1)/(3*t*n))**(1/2)\n",
    "    z_stat = variance_ratio/standard_error\n",
    "    p_value = 2*(1 - sps.norm.cdf(abs(z_stat)))\n",
    "    variance_ratio_output[t] = [round(variance_0, 6), round(variance, 6), round(variance_ratio, 4), round(standard_error, 4), round(z_stat, 4), p_value]"
   ]
  },
  {
   "cell_type": "code",
   "execution_count": 50,
   "metadata": {},
   "outputs": [
    {
     "name": "stdout",
     "output_type": "stream",
     "text": [
      "the market is mean-reverting\n"
     ]
    },
    {
     "data": {
      "image/png": "[encoded data removed]",
      "text/plain": [
       "<Figure size 432x288 with 1 Axes>"
      ]
     },
     "metadata": {
      "needs_background": "light"
     },
     "output_type": "display_data"
    }
   ],
   "source": [
    "plt.plot(variance_ratio_output.iloc[4])\n",
    "min_pvalue = min(variance_ratio_output.iloc[5])\n",
    "max_z_stat = variance_ratio_output.iloc[4][variance_ratio_output.iloc[5] == min_pvalue].values[0]\n",
    "Chow_Denning = 1 - (1 - min_pvalue)**(max_t)\n",
    "if Chow_Denning > 0.1:\n",
    "    print('the market is efficient')\n",
    "elif max_z_stat > 0:\n",
    "    print('the market is trending')\n",
    "else:\n",
    "    print('the market is mean-reverting')"
   ]
  },
  {
   "cell_type": "code",
   "execution_count": null,
   "metadata": {},
   "outputs": [],
   "source": []
  },
  {
   "cell_type": "code",
   "execution_count": null,
   "metadata": {},
   "outputs": [],
   "source": []
  },
  {
   "cell_type": "code",
   "execution_count": null,
   "metadata": {},
   "outputs": [],
   "source": []
  },
  {
   "cell_type": "code",
   "execution_count": null,
   "metadata": {},
   "outputs": [],
   "source": []
  },
  {
   "cell_type": "code",
   "execution_count": null,
   "metadata": {},
   "outputs": [],
   "source": []
  },
  {
   "cell_type": "code",
   "execution_count": null,
   "metadata": {},
   "outputs": [],
   "source": []
  },
  {
   "cell_type": "code",
   "execution_count": null,
   "metadata": {},
   "outputs": [],
   "source": []
  },
  {
   "cell_type": "code",
   "execution_count": null,
   "metadata": {},
   "outputs": [],
   "source": []
  },
  {
   "cell_type": "code",
   "execution_count": null,
   "metadata": {},
   "outputs": [],
   "source": []
  },
  {
   "cell_type": "code",
   "execution_count": null,
   "metadata": {},
   "outputs": [],
   "source": []
  },
  {
   "cell_type": "code",
   "execution_count": null,
   "metadata": {},
   "outputs": [],
   "source": []
  }
 ],
 "metadata": {
  "kernelspec": {
   "display_name": "Python 3",
   "language": "python",
   "name": "python3"
  },
  "language_info": {
   "codemirror_mode": {
    "name": "ipython",
    "version": 3
   },
   "file_extension": ".py",
   "mimetype": "text/x-python",
   "name": "python",
   "nbconvert_exporter": "python",
   "pygments_lexer": "ipython3",
   "version": "3.7.4"
  }
 },
 "nbformat": 4,
 "nbformat_minor": 2
}
