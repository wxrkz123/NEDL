{
 "cells": [
  {
   "cell_type": "code",
   "execution_count": 2,
   "metadata": {},
   "outputs": [],
   "source": [
    "#import packages\n",
    "import numpy as np\n",
    "import pandas as pd\n",
    "import yfinance as yf\n",
    "import scipy.stats as sps\n",
    "import scipy.optimize as spop\n",
    "import matplotlib.pyplot as plt"
   ]
  },
  {
   "cell_type": "code",
   "execution_count": 21,
   "metadata": {},
   "outputs": [
    {
     "name": "stdout",
     "output_type": "stream",
     "text": [
      "[*********************100%***********************]  1 of 1 completed\n"
     ]
    },
    {
     "data": {
      "image/png": "[encoded data removed]",
      "text/plain": [
       "<Figure size 432x288 with 1 Axes>"
      ]
     },
     "metadata": {
      "needs_background": "light"
     },
     "output_type": "display_data"
    },
    {
     "name": "stdout",
     "output_type": "stream",
     "text": [
      "The p-value of the Kolmorogov-Smirnov test equals 71.1557%\n",
      "The distribution fits the data\n"
     ]
    }
   ],
   "source": [
    "#Johnson SU distribution\n",
    "#probability density function: f(x) = scale2/(scale1*sqrt(2*pi))/sqrt(1+((x-loc1)/scale1)^2)*e^(-1/2*(loc2 + scale2*arcsinh((x-loc1)/scale1))^2)\n",
    "#cumulative distribution function: F(x) = N(loc2 + scale2*arcsinh((x-loc1)/scale1))\n",
    "#specify the sample\n",
    "ticker = '^GSPC'\n",
    "start = '2017-12-31' \n",
    "end = '2022-12-31'\n",
    "#retrieve data\n",
    "prices = yf.download(ticker, start, end)['Close']\n",
    "#calculate and sort returns\n",
    "returns = np.array(prices[1:])/np.array(prices[:-1]) - 1\n",
    "returns = np.sort(returns)\n",
    "#construct empirical distribution function\n",
    "edf = np.arange(1, len(returns)+1)/len(returns)\n",
    "#calculate mean and standard deviation\n",
    "mean = np.average(returns)\n",
    "std = np.std(returns)\n",
    "#optimise Johnson SU distribution parameters using maximum likelihood estimation\n",
    "def johnson_su_optimisation(k):\n",
    "    k[1] = abs(k[1])\n",
    "    k[3] = abs(k[3])\n",
    "    pdf = k[3]/(k[1]*(2*np.pi)**(1/2))/(1 + ((returns - k[0])/k[1])**2)**(1/2)*np.exp(-1/2*(k[2] + k[3]*np.arcsinh((returns - k[0])/k[1]))**2)\n",
    "    return -np.sum(np.log(pdf))\n",
    "#retrieve optimal distribution parameters\n",
    "res = spop.minimize(johnson_su_optimisation, [mean, std, 0, 1], method='Nelder-Mead')\n",
    "su_loc_1 = res.x[0]\n",
    "su_scale_1 = abs(res.x[1])\n",
    "su_loc_2 = res.x[2]\n",
    "su_scale_2 = abs(res.x[3])\n",
    "#calculate the cumulative distribution function\n",
    "cdf = sps.norm.cdf(su_loc_2 + su_scale_2*np.arcsinh((returns - su_loc_1)/su_scale_1))\n",
    "#visualise the distribution functions\n",
    "plt.plot(returns, edf)\n",
    "plt.plot(returns, cdf)\n",
    "plt.show()\n",
    "#evaluate the goodness-of-fit using Kolmogorov-Smirnov test\n",
    "supremum = max(abs(edf - cdf))\n",
    "p_value = np.exp(-supremum**2*len(returns))\n",
    "print('The p-value of the Kolmorogov-Smirnov test equals '+str(round(p_value*100,4))+'%')\n",
    "if p_value < 0.1:\n",
    "    print('The distribution does not fit the data')\n",
    "else:\n",
    "    print('The distribution fits the data')"
   ]
  },
  {
   "cell_type": "code",
   "execution_count": null,
   "metadata": {},
   "outputs": [],
   "source": []
  },
  {
   "cell_type": "code",
   "execution_count": null,
   "metadata": {},
   "outputs": [],
   "source": []
  },
  {
   "cell_type": "code",
   "execution_count": null,
   "metadata": {},
   "outputs": [],
   "source": []
  },
  {
   "cell_type": "code",
   "execution_count": null,
   "metadata": {},
   "outputs": [],
   "source": []
  },
  {
   "cell_type": "code",
   "execution_count": null,
   "metadata": {},
   "outputs": [],
   "source": []
  },
  {
   "cell_type": "code",
   "execution_count": null,
   "metadata": {},
   "outputs": [],
   "source": []
  },
  {
   "cell_type": "code",
   "execution_count": null,
   "metadata": {},
   "outputs": [],
   "source": []
  },
  {
   "cell_type": "code",
   "execution_count": null,
   "metadata": {},
   "outputs": [],
   "source": []
  },
  {
   "cell_type": "code",
   "execution_count": null,
   "metadata": {},
   "outputs": [],
   "source": []
  }
 ],
 "metadata": {
  "kernelspec": {
   "display_name": "Python 3",
   "language": "python",
   "name": "python3"
  },
  "language_info": {
   "codemirror_mode": {
    "name": "ipython",
    "version": 3
   },
   "file_extension": ".py",
   "mimetype": "text/x-python",
   "name": "python",
   "nbconvert_exporter": "python",
   "pygments_lexer": "ipython3",
   "version": "3.7.4"
  }
 },
 "nbformat": 4,
 "nbformat_minor": 2
}
