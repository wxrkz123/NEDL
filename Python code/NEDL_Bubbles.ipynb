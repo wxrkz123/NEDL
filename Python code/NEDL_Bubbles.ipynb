{
 "cells": [
  {
   "cell_type": "code",
   "execution_count": 14,
   "metadata": {},
   "outputs": [],
   "source": [
    "#importing packages\n",
    "import numpy as np\n",
    "import pandas as pd\n",
    "import yfinance as yf\n",
    "import statsmodels.api as sm\n",
    "import matplotlib.pyplot as plt"
   ]
  },
  {
   "cell_type": "code",
   "execution_count": 15,
   "metadata": {},
   "outputs": [
    {
     "name": "stdout",
     "output_type": "stream",
     "text": [
      "[*********************100%***********************]  1 of 1 completed\n",
      "DatetimeIndex(['2020-11-21', '2020-11-22', '2020-11-23', '2020-11-24',\n",
      "               '2020-11-25', '2021-01-02', '2021-01-03', '2021-01-04',\n",
      "               '2021-01-05', '2021-01-06', '2021-01-29', '2021-01-31',\n",
      "               '2021-02-04', '2021-02-05', '2021-02-06', '2021-02-07',\n",
      "               '2021-02-08', '2021-02-09', '2021-02-10', '2021-02-11',\n",
      "               '2021-02-12', '2021-04-13', '2021-04-14', '2021-04-15',\n",
      "               '2021-04-16'],\n",
      "              dtype='datetime64[ns]', name='Date', freq=None)\n"
     ]
    },
    {
     "data": {
      "image/png": "[encoded data removed]",
      "text/plain": [
       "<Figure size 432x288 with 1 Axes>"
      ]
     },
     "metadata": {
      "needs_background": "light"
     },
     "output_type": "display_data"
    }
   ],
   "source": [
    "#this is a bubble detecting algorithm developed by Phillips and Yu (2011) and Phillips et al. (2015) \n",
    "#it is based on the augmented Dickey-Fuller test\n",
    "\n",
    "#downloading data\n",
    "ticker = 'DOGE-USD'\n",
    "start = '2020-09-01'\n",
    "end = '2021-06-15'\n",
    "prices = yf.download(ticker, start, end)['Close']\n",
    "#inputting the parameters\n",
    "r0 = int(len(prices)*0.1)\n",
    "#specify lags for the augmented Dickey-Fuller (ADF) test\n",
    "adf_lags = 3\n",
    "#critical value of the right-tailed ADF-test (95%) from Phillips et al. (2015)\n",
    "crit = 1.49\n",
    "#transforming data\n",
    "log_prices = np.array(np.log(prices))\n",
    "delta_log_prices = log_prices[1:] - log_prices[:-1]\n",
    "n = len(delta_log_prices)\n",
    "BSADF = np.array([])\n",
    "#calculating ADF stats\n",
    "for r2 in range(r0,n):\n",
    "    ADFS = np.array([])\n",
    "    for r1 in range(0,r2-r0+1):\n",
    "        X0 = log_prices[r1:r2+1]\n",
    "        X = pd.DataFrame()\n",
    "        X[0] = X0\n",
    "        for j in range(1,adf_lags+1):\n",
    "            X[j] = np.append(np.zeros(j),delta_log_prices[r1:r2+1-j])\n",
    "        X = np.array(X)\n",
    "        Y = delta_log_prices[r1:r2+1]\n",
    "        reg = sm.OLS(Y,sm.add_constant(X))\n",
    "        res = reg.fit()\n",
    "        ADFS = np.append(ADFS, res.params[1]/res.bse[1])\n",
    "    BSADF = np.append(BSADF, max(ADFS))\n",
    "#visualising the results\n",
    "plt.rc('xtick',labelsize = 8)\n",
    "plt.plot(prices.index[r0+1:],BSADF)\n",
    "plt.plot(prices.index[r0+1:],np.ones(len(BSADF))*crit)\n",
    "#printing dates when bubbles were detected\n",
    "print(prices.index[r0+1:][BSADF > crit])"
   ]
  },
  {
   "cell_type": "code",
   "execution_count": null,
   "metadata": {},
   "outputs": [],
   "source": []
  },
  {
   "cell_type": "code",
   "execution_count": null,
   "metadata": {},
   "outputs": [],
   "source": []
  },
  {
   "cell_type": "code",
   "execution_count": null,
   "metadata": {},
   "outputs": [],
   "source": []
  },
  {
   "cell_type": "code",
   "execution_count": null,
   "metadata": {},
   "outputs": [],
   "source": []
  },
  {
   "cell_type": "code",
   "execution_count": null,
   "metadata": {},
   "outputs": [],
   "source": []
  },
  {
   "cell_type": "code",
   "execution_count": null,
   "metadata": {},
   "outputs": [],
   "source": []
  },
  {
   "cell_type": "code",
   "execution_count": null,
   "metadata": {},
   "outputs": [],
   "source": []
  },
  {
   "cell_type": "code",
   "execution_count": null,
   "metadata": {},
   "outputs": [],
   "source": []
  },
  {
   "cell_type": "code",
   "execution_count": null,
   "metadata": {},
   "outputs": [],
   "source": []
  },
  {
   "cell_type": "code",
   "execution_count": null,
   "metadata": {},
   "outputs": [],
   "source": []
  },
  {
   "cell_type": "code",
   "execution_count": null,
   "metadata": {},
   "outputs": [],
   "source": []
  }
 ],
 "metadata": {
  "kernelspec": {
   "display_name": "Python 3",
   "language": "python",
   "name": "python3"
  },
  "language_info": {
   "codemirror_mode": {
    "name": "ipython",
    "version": 3
   },
   "file_extension": ".py",
   "mimetype": "text/x-python",
   "name": "python",
   "nbconvert_exporter": "python",
   "pygments_lexer": "ipython3",
   "version": "3.7.4"
  }
 },
 "nbformat": 4,
 "nbformat_minor": 2
}
